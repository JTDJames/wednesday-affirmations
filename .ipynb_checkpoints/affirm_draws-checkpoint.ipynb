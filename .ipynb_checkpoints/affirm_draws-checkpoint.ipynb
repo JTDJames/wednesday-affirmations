{
 "cells": [
  {
   "cell_type": "code",
   "execution_count": 1,
   "metadata": {},
   "outputs": [],
   "source": [
    "### Selecting the order of weekly adffirmator \n",
    "    # card pulls and selecting the three options \n",
    "    # for that weeks selector"
   ]
  },
  {
   "cell_type": "code",
   "execution_count": 8,
   "metadata": {},
   "outputs": [],
   "source": [
    "cohort_mems = [['Brandon', 'Sienkiewicz'],\n",
    "               ['Ilan', 'Haskel'],\n",
    "               ['Jake', 'Cordrey'],\n",
    "               ['Jasmine', 'Huang'],\n",
    "               ['Jonathan', 'Fetterolf'],\n",
    "               ['Jose', 'Castillo'],\n",
    "               ['Leif', 'Schultz'],\n",
    "               ['Matt', 'Duncan'],\n",
    "               ['Michael', 'Licul'],\n",
    "               ['Nate', 'Kist'],\n",
    "               ['Roshni', 'Janakiraman'],\n",
    "               ['Zachary', 'Cherna']]"
   ]
  },
  {
   "cell_type": "code",
   "execution_count": 13,
   "metadata": {},
   "outputs": [
    {
     "name": "stdout",
     "output_type": "stream",
     "text": [
      "1. Nate Kist\n",
      "2. Leif Schultz\n",
      "3. Matt Duncan\n",
      "4. Jose Castillo\n",
      "5. Zachary Cherna\n",
      "6. Roshni Janakiraman\n",
      "7. Jake Cordrey\n",
      "8. Jasmine Huang\n",
      "9. Brandon Sienkiewicz\n",
      "10. Michael Licul\n",
      "11. Ilan Haskel\n",
      "12. Jonathan Fetterolf\n"
     ]
    }
   ],
   "source": [
    "# Randomizing the order of the weekly selector\n",
    "# from a list of cohort partipants.\n",
    "\n",
    "import random\n",
    "\n",
    "random.shuffle(cohort_mems)\n",
    "\n",
    "x = 1\n",
    "\n",
    "for pers in cohort_mems:\n",
    "    print(f\"{x}. {pers[0]} {pers[1]}\")\n",
    "    x += 1"
   ]
  },
  {
   "cell_type": "code",
   "execution_count": 15,
   "metadata": {},
   "outputs": [
    {
     "name": "stdout",
     "output_type": "stream",
     "text": [
      "For Nate shuffle 4 times and start the draw at the 4th card.\n",
      "For Leif shuffle 4 times and start the draw at the 7th card.\n",
      "For Matt shuffle 4 times and start the draw at the 6th card.\n",
      "For Jose shuffle 4 times and start the draw at the 8th card.\n",
      "For Zachary shuffle 7 times and start the draw at the 6th card.\n",
      "For Roshni shuffle 6 times and start the draw at the 11th card.\n",
      "For Jake shuffle 4 times and start the draw at the 7th card.\n",
      "For Jasmine shuffle 7 times and start the draw at the 5th card.\n",
      "For Brandon shuffle 7 times and start the draw at the 11th card.\n",
      "For Michael shuffle 7 times and start the draw at the 5th card.\n",
      "For Ilan shuffle 4 times and start the draw at the 6th card.\n",
      "For Jonathan shuffle 8 times and start the draw at the 9th card.\n"
     ]
    }
   ],
   "source": [
    "# Turn first name into number of rolls\n",
    "# and last name into card number to start draw\n",
    "\n",
    "f_name = []\n",
    "f_name_len = []\n",
    "\n",
    "for pers in cohort_mems:\n",
    "    f_name.append(pers[0])\n",
    "    f_name_len.append(len(pers[0]))\n",
    "    \n",
    "l_name = []\n",
    "l_name_len = []\n",
    "\n",
    "for per in cohort_mems:\n",
    "    l_name.append(per[1])\n",
    "    l_name_len.append(len(per[1]))\n",
    "\n",
    "\n",
    "x = 0\n",
    "        \n",
    "for pers in f_name:\n",
    "    print(f\"For {f_name[x]} shuffle {f_name_len[x]} times and start the draw at the {l_name_len[x]}th card.\")\n",
    "    x += 1"
   ]
  },
  {
   "cell_type": "code",
   "execution_count": null,
   "metadata": {},
   "outputs": [],
   "source": []
  }
 ],
 "metadata": {
  "kernelspec": {
   "display_name": "Python (learn-env)",
   "language": "python",
   "name": "learn-env"
  },
  "language_info": {
   "codemirror_mode": {
    "name": "ipython",
    "version": 3
   },
   "file_extension": ".py",
   "mimetype": "text/x-python",
   "name": "python",
   "nbconvert_exporter": "python",
   "pygments_lexer": "ipython3",
   "version": "3.8.5"
  }
 },
 "nbformat": 4,
 "nbformat_minor": 4
}
